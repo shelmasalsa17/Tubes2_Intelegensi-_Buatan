{
 "cells": [
  {
   "cell_type": "code",
   "execution_count": 64,
   "id": "b403b324",
   "metadata": {},
   "outputs": [],
   "source": [
    "import pandas as pd\n",
    "\n",
    "#Fungsi-fungsi\n",
    "def readFileWithoutOutliers():\n",
    "    df = pd.read_csv(\"../data/data_train.csv\")\n",
    "    Q1 = df['fc'].quantile(0.25)\n",
    "    Q3 = df['fc'].quantile(0.75)\n",
    "    IQR = Q3 - Q1\n",
    "    upper_bound = Q3 + 1.5 * IQR\n",
    "    lower_bound = Q1 - 1.5 * IQR\n",
    "    df_no_outliers = df[(df['fc'] > lower_bound) & (df['fc'] < upper_bound)]\n",
    "    return df_no_outliers\n",
    "def classifyData(data, bins1, labels1):\n",
    "    classified_data = pd.cut(data, bins=bins1, labels=[str(label) for label in labels1])\n",
    "    return classified_data\n",
    "def countClassifyData(namaKolomClassify, data, bins, labels):\n",
    "    df[namaKolomClassify] =  classifyData(data, bins, labels)\n",
    "    result0 = df[df['price_range'] == 0][namaKolomClassify].value_counts(sort=False)\n",
    "    result1 = df[df['price_range'] == 1][namaKolomClassify].value_counts(sort=False)\n",
    "    result2 = df[df['price_range'] == 2][namaKolomClassify].value_counts(sort=False)\n",
    "    result3 = df[df['price_range'] == 3][namaKolomClassify].value_counts(sort=False)\n",
    "    result0 = result0/352\n",
    "    result1 = result1/344\n",
    "    result2 = result2/341\n",
    "    result3 = result3/334\n",
    "    return result0, result1, result2, result3\n",
    "def countClassifyDataBoolean(namaKolomClassify, data):\n",
    "    df[namaKolomClassify] = data.replace({True, False})\n",
    "    result0 = df[df['price_range'] == 0][namaKolomClassify].value_counts(sort=False)\n",
    "    result1 = df[df['price_range'] == 1][namaKolomClassify].value_counts(sort=False)\n",
    "    result2 = df[df['price_range'] == 2][namaKolomClassify].value_counts(sort=False)\n",
    "    result3 = df[df['price_range'] == 3][namaKolomClassify].value_counts(sort=False)\n",
    "    result0 = result0/352\n",
    "    result1 = result1/344\n",
    "    result2 = result2/341\n",
    "    result3 = result3/334\n",
    "    return result0, result1, result2, result3\n",
    "\n",
    "def writeMultipleClassifyDataToTxt(file_path, kolom_klasifikasi, data_frame):\n",
    "    with open(file_path, 'w') as file:\n",
    "        for namaKolomClassify, bins, labels in kolom_klasifikasi:\n",
    "            data = data_frame[namaKolomClassify]\n",
    "            df[namaKolomClassify] = classifyData(data, bins, labels)\n",
    "            result0, result1, result2, result3 = countClassifyData(f\"{namaKolomClassify}_klasifikasi\", data, bins, labels)\n",
    "            file.write(namaKolomClassify + \"\\n\")\n",
    "            file.write(\"\\t\".join([labels[0]] + list(map(str, result0.sort_index().values))) + \"\\n\")\n",
    "            file.write(\"\\t\".join([labels[1]] + list(map(str, result1.sort_index().values))) + \"\\n\")\n",
    "            file.write(\"\\t\".join([labels[2]] + list(map(str, result2.sort_index().values))) + \"\\n\")\n",
    "            file.write(\"\\t\".join([labels[3]] + list(map(str, result3.sort_index().values))) + \"\\n\")\n",
    "\n",
    "def writeMultipleClassifyDataBooleanToTxt(file_path, kolom_klasifikasi, data_frame):\n",
    "    with open(file_path, 'a') as file:\n",
    "        for namaKolomClassify, labels in kolom_klasifikasi:\n",
    "            data = data_frame[namaKolomClassify]\n",
    "            result0, result1, result2, result3 = countClassifyDataBoolean(namaKolomClassify, data)\n",
    "            file.write(namaKolomClassify + \"\\n\")\n",
    "            file.write(\"\\t\".join([labels[0]] + list(map(str, result0.sort_index().values))) + \"\\n\")\n",
    "            file.write(\"\\t\".join([labels[1]] + list(map(str, result1.sort_index().values))) + \"\\n\")\n",
    "            file.write(\"\\t\".join([labels[2]] + list(map(str, result2.sort_index().values))) + \"\\n\")\n",
    "            file.write(\"\\t\".join([labels[3]] + list(map(str, result3.sort_index().values))) + \"\\n\")\n",
    "#write Pvj\n",
    "def writePvj(file_path, namaKolom, data_frame, arrayNilai):\n",
    "    with open(file_path, 'a') as file:\n",
    "        for array in arrayNilai:\n",
    "            count_array = len(data_frame[data_frame[namaKolom] == array])/len(df)\n",
    "            file.write(f'{namaKolom}1\\t{count_array}\\n')\n",
    "\n",
    "df = readFileWithoutOutliers()\n",
    "kolom_klasifikasi = [\n",
    "    ('battery_power', [501, 864, 1218, 1600, 1998], ['battery_power1', 'battery_power2', 'battery_power3', 'battery_power4']),\n",
    "    (\"clock_speed\", [0.5, 0.7, 1.5, 2.2, 3], [\"clock_speed1\", \"clock_speed2\", \"clock_speed3\", \"clock_speed4\"]),\n",
    "    (\"fc\", [0, 1, 3, 7, 15], [\"fc1\", \"fc2\", \"fc3\", \"fc4\"]), \n",
    "    (\"int_memory\", [2, 16, 32, 48, 64], [\"int_memory1\", \"int_memory2\", \"int_memory3\", \"int_memory\"]), \n",
    "    (\"m_dep\", [0.1, 0.2, 0.5, 0.8, 1], [\"m_dep1\", \"m_dep2\", \"m_dep3\", \"m_dep4\"]),\n",
    "    (\"mobile_wt\", [80, 107.5, 139, 169, 200], [\"mobile_wt1\", \"mobile_wt2\", \"mobile_wt3\", \"mobile_wt4\"]),\n",
    "    (\"n_cores\", [1, 2, 4, 7, 8], [\"n_cores1\", \"n_cores2\", \"n_cores3\", \"n_cores4\"]),\n",
    "    (\"pc\", [0, 5, 10, 15, 20], [\"pc1\", \"pc2\", \"pc3\", \"pc4\"]),\n",
    "    (\"px_height\", [0, 273, 560, 946, 1960], [\"px_height1\", \"px_height2\", \"px_height3\", \"px_height4\"]),\n",
    "    (\"px_width\", [500, 878, 1247, 1623, 1998], [\"px_width1\", \"px_width2\", \"px_width3\", \"px_width4\"]),\n",
    "    (\"ram\", [256, 1210.5, 2107, 3036.5, 3998], [\"ram1\", \"ram2\", \"ram3\", \"ram4\"]),\n",
    "    (\"sc_h\", [5, 9, 12, 16, 19], [\"sc_h1\", \"sc_h2\", \"sc_h3\", \"sc_h4\"]),\n",
    "    (\"sc_w\", [0, 2, 5, 9, 18], [\"sc_w1\", \"sc_w2\", \"sc_w3\", \"sc_w4\"]),\n",
    "    (\"talk_time\", [2, 6, 11, 16, 20], [\"talk_time1\", \"talk_time2\", \"talk_time3\", \"talk_time4\"])\n",
    "    \n",
    "]\n",
    "kolom_klasifikasi_boolean = [\n",
    "    ('blue', ['blue1', 'blue2', 'blue3', 'blue4']),\n",
    "    (\"dual_sim\", ['dual_sim1', 'dual_sim2', 'dual_sim3', 'dual_sim4']),\n",
    "    (\"four_g\", ['four_g1', 'four_g2', 'four_g3', 'four_g4']),\n",
    "    (\"three_g\", ['three_g1', 'three_g2', 'three_g3', 'three_g4']),\n",
    "    (\"touch_screen\", ['touch_screen1', 'touch_screen2', 'touch_screen3', 'touch_screen4']),\n",
    "    (\"wifi\", ['wifi1', 'wifi2', 'wifi3', 'wifi4'])\n",
    "]\n",
    "writeMultipleClassifyDataToTxt('hasil.txt', kolom_klasifikasi, df)\n",
    "writeMultipleClassifyDataBooleanToTxt('hasil.txt', kolom_klasifikasi_boolean, df)\n",
    "writePvj('hasil.txt', 'price_range', df, [0,1,2,3])"
   ]
  },
  {
   "cell_type": "code",
   "execution_count": 191,
   "id": "fbc98ddb",
   "metadata": {},
   "outputs": [
    {
     "name": "stdout",
     "output_type": "stream",
     "text": [
      "battery_power_category\n",
      "battery_power2    0.323864\n",
      "battery_power1    0.315341\n",
      "battery_power3    0.198864\n",
      "battery_power4    0.161932\n",
      "Name: count, dtype: float64\n",
      "battery_power_category\n",
      "battery_power2    0.270349\n",
      "battery_power3    0.250000\n",
      "battery_power4    0.241279\n",
      "battery_power1    0.235465\n",
      "Name: count, dtype: float64\n",
      "battery_power_category\n",
      "battery_power1    0.275660\n",
      "battery_power3    0.252199\n",
      "battery_power4    0.249267\n",
      "battery_power2    0.222874\n",
      "Name: count, dtype: float64\n",
      "battery_power_category\n",
      "battery_power4    0.341317\n",
      "battery_power3    0.305389\n",
      "battery_power2    0.185629\n",
      "battery_power1    0.167665\n",
      "Name: count, dtype: float64\n"
     ]
    }
   ],
   "source": [
    "result1, result2, result3, result4 = countClassifyData(\"battery_power_category\", df[\"battery_power\"], [501, 864.75, 1219, 1602, 1998], [\"battery_power1\", \"battery_power2\", \"battery_power3\", \"battery_power4\"])\n",
    "print(result1)\n",
    "print(result2)\n",
    "print(result3)\n",
    "print(result4)"
   ]
  },
  {
   "cell_type": "code",
   "execution_count": 182,
   "id": "add70e2e",
   "metadata": {},
   "outputs": [
    {
     "name": "stdout",
     "output_type": "stream",
     "text": [
      "clock_speed_category\n",
      "clock_speed4    0.261364\n",
      "clock_speed3    0.224432\n",
      "clock_speed2    0.218750\n",
      "clock_speed1    0.076705\n",
      "Name: count, dtype: float64\n",
      "clock_speed_category\n",
      "clock_speed2    0.255814\n",
      "clock_speed4    0.241279\n",
      "clock_speed3    0.235465\n",
      "clock_speed1    0.081395\n",
      "Name: count, dtype: float64\n",
      "clock_speed_category\n",
      "clock_speed3    0.255132\n",
      "clock_speed4    0.234604\n",
      "clock_speed2    0.231672\n",
      "clock_speed1    0.082111\n",
      "Name: count, dtype: float64\n",
      "clock_speed_category\n",
      "clock_speed3    0.248503\n",
      "clock_speed4    0.239521\n",
      "clock_speed2    0.233533\n",
      "clock_speed1    0.062874\n",
      "Name: count, dtype: float64\n"
     ]
    }
   ],
   "source": [
    "result1, result2, result3, result4 = countClassifyData(\"clock_speed_category\", df[\"clock_speed\"], [0.5, 0.7, 1.5, 2.2, 3], [\"clock_speed1\", \"clock_speed2\", \"clock_speed3\", \"clock_speed4\"])\n",
    "print(result1)\n",
    "print(result2)\n",
    "print(result3)\n",
    "print(result4)"
   ]
  },
  {
   "cell_type": "code",
   "execution_count": 184,
   "id": "9dc375a9",
   "metadata": {},
   "outputs": [
    {
     "name": "stdout",
     "output_type": "stream",
     "text": [
      "fc_category\n",
      "fc3    0.264205\n",
      "fc4    0.196023\n",
      "fc2    0.176136\n",
      "fc1    0.127841\n",
      "Name: count, dtype: float64\n",
      "fc_category\n",
      "fc3    0.220930\n",
      "fc4    0.203488\n",
      "fc2    0.168605\n",
      "fc1    0.136628\n",
      "Name: count, dtype: float64\n",
      "fc_category\n",
      "fc3    0.263930\n",
      "fc4    0.208211\n",
      "fc2    0.202346\n",
      "fc1    0.090909\n",
      "Name: count, dtype: float64\n",
      "fc_category\n",
      "fc3    0.221557\n",
      "fc4    0.203593\n",
      "fc2    0.182635\n",
      "fc1    0.146707\n",
      "Name: count, dtype: float64\n"
     ]
    }
   ],
   "source": [
    "result1, result2, result3, result4 = countClassifyData(\"fc_category\", df[\"fc\"], [0, 1, 3, 7, 15], [\"fc1\", \"fc2\", \"fc3\", \"fc4\"])\n",
    "print(result1)\n",
    "print(result2)\n",
    "print(result3)\n",
    "print(result4)"
   ]
  },
  {
   "cell_type": "code",
   "execution_count": 171,
   "id": "0149c9be",
   "metadata": {},
   "outputs": [
    {
     "name": "stdout",
     "output_type": "stream",
     "text": [
      "int_memory_category\n",
      "int_memory2    0.264205\n",
      "int_memory     0.255682\n",
      "int_memory1    0.244318\n",
      "int_memory3    0.215909\n",
      "Name: count, dtype: float64\n",
      "int_memory_category\n",
      "int_memory3    0.296512\n",
      "int_memory2    0.255814\n",
      "int_memory1    0.220930\n",
      "int_memory     0.206395\n",
      "Name: count, dtype: float64\n",
      "int_memory_category\n",
      "int_memory1    0.287390\n",
      "int_memory2    0.249267\n",
      "int_memory     0.246334\n",
      "int_memory3    0.184751\n",
      "Name: count, dtype: float64\n",
      "int_memory_category\n",
      "int_memory3    0.284431\n",
      "int_memory     0.257485\n",
      "int_memory2    0.230539\n",
      "int_memory1    0.221557\n",
      "Name: count, dtype: float64\n"
     ]
    }
   ],
   "source": [
    "result1, result2, result3, result4 = countClassifyData(\"int_memory_category\", df[\"int_memory\"], [2, 16, 32, 48, 64], [\"int_memory1\", \"int_memory2\", \"int_memory3\", \"int_memory\"])\n",
    "print(result1)\n",
    "print(result2)\n",
    "print(result3)\n",
    "print(result4)"
   ]
  },
  {
   "cell_type": "code",
   "execution_count": 92,
   "id": "0b3fc721",
   "metadata": {},
   "outputs": [
    {
     "name": "stdout",
     "output_type": "stream",
     "text": [
      "m_dep_category\n",
      "m_dep3    0.309659\n",
      "m_dep2    0.284091\n",
      "m_dep1    0.261364\n",
      "m_dep4    0.144886\n",
      "Name: count, dtype: float64\n",
      "m_dep_category\n",
      "m_dep3    0.296512\n",
      "m_dep2    0.276163\n",
      "m_dep1    0.238372\n",
      "m_dep4    0.188953\n",
      "Name: count, dtype: float64\n",
      "m_dep_category\n",
      "m_dep3    0.307918\n",
      "m_dep2    0.290323\n",
      "m_dep1    0.260997\n",
      "m_dep4    0.140762\n",
      "Name: count, dtype: float64\n",
      "m_dep_category\n",
      "m_dep3    0.308383\n",
      "m_dep2    0.287425\n",
      "m_dep1    0.254491\n",
      "m_dep4    0.149701\n",
      "Name: count, dtype: float64\n"
     ]
    }
   ],
   "source": [
    "result1, result2, result3, result4 = countClassifyData(\"m_dep_category\", df[\"m_dep\"], [0.1, 0.2, 0.5, 0.8, 1], [\"m_dep1\", \"m_dep2\", \"m_dep3\", \"m_dep4\"])\n",
    "print(result1)\n",
    "print(result2)\n",
    "print(result3)\n",
    "print(result4)"
   ]
  },
  {
   "cell_type": "code",
   "execution_count": 93,
   "id": "0f6180db",
   "metadata": {},
   "outputs": [
    {
     "name": "stdout",
     "output_type": "stream",
     "text": [
      "mobile_wt_category\n",
      "mobile_wt4    0.284091\n",
      "mobile_wt2    0.250000\n",
      "mobile_wt3    0.235795\n",
      "mobile_wt1    0.230114\n",
      "Name: count, dtype: float64\n",
      "mobile_wt_category\n",
      "mobile_wt4    0.261628\n",
      "mobile_wt2    0.250000\n",
      "mobile_wt3    0.247093\n",
      "mobile_wt1    0.241279\n",
      "Name: count, dtype: float64\n",
      "mobile_wt_category\n",
      "mobile_wt3    0.281525\n",
      "mobile_wt2    0.260997\n",
      "mobile_wt4    0.243402\n",
      "mobile_wt1    0.214076\n",
      "Name: count, dtype: float64\n",
      "mobile_wt_category\n",
      "mobile_wt1    0.317365\n",
      "mobile_wt2    0.269461\n",
      "mobile_wt3    0.212575\n",
      "mobile_wt4    0.200599\n",
      "Name: count, dtype: float64\n"
     ]
    }
   ],
   "source": [
    "result1, result2, result3, result4 = countClassifyData(\"mobile_wt_category\", df[\"mobile_wt\"], [80, 107.5, 139, 169, 200], [\"mobile_wt1\", \"mobile_wt2\", \"mobile_wt3\", \"mobile_wt4\"])\n",
    "print(result1)\n",
    "print(result2)\n",
    "print(result3)\n",
    "print(result4)"
   ]
  },
  {
   "cell_type": "code",
   "execution_count": 48,
   "id": "d834ccca",
   "metadata": {},
   "outputs": [
    {
     "name": "stdout",
     "output_type": "stream",
     "text": [
      "n_cores_category\n",
      "n_cores3    0.386364\n",
      "n_cores2    0.247159\n",
      "n_cores1    0.238636\n",
      "n_cores4    0.127841\n",
      "Name: count, dtype: float64\n",
      "n_cores_category\n",
      "n_cores3    0.325581\n",
      "n_cores2    0.287791\n",
      "n_cores1    0.273256\n",
      "n_cores4    0.113372\n",
      "Name: count, dtype: float64\n",
      "n_cores_category\n",
      "n_cores3    0.372434\n",
      "n_cores2    0.278592\n",
      "n_cores1    0.231672\n",
      "n_cores4    0.117302\n",
      "Name: count, dtype: float64\n",
      "n_cores_category\n",
      "n_cores3    0.392216\n",
      "n_cores1    0.260479\n",
      "n_cores2    0.227545\n",
      "n_cores4    0.119760\n",
      "Name: count, dtype: float64\n"
     ]
    }
   ],
   "source": [
    "result1, result2, result3, result4 = countClassifyData(\"n_cores_category\", df[\"n_cores\"], [1, 2, 4, 7, 8], [\"n_cores1\", \"n_cores2\", \"n_cores3\", \"n_cores4\"])\n",
    "print(result1)\n",
    "print(result2)\n",
    "print(result3)\n",
    "print(result4)"
   ]
  },
  {
   "cell_type": "code",
   "execution_count": 112,
   "id": "98b8382b",
   "metadata": {},
   "outputs": [
    {
     "name": "stdout",
     "output_type": "stream",
     "text": [
      "pc_category\n",
      "pc1    0.289773\n",
      "pc2    0.258523\n",
      "pc3    0.250000\n",
      "pc4    0.201705\n",
      "Name: count, dtype: float64\n",
      "pc_category\n",
      "pc1    0.290698\n",
      "pc2    0.273256\n",
      "pc3    0.218023\n",
      "pc4    0.218023\n",
      "Name: count, dtype: float64\n",
      "pc_category\n",
      "pc2    0.299120\n",
      "pc1    0.260997\n",
      "pc3    0.234604\n",
      "pc4    0.205279\n",
      "Name: count, dtype: float64\n",
      "pc_category\n",
      "pc1    0.299401\n",
      "pc2    0.260479\n",
      "pc4    0.230539\n",
      "pc3    0.209581\n",
      "Name: count, dtype: float64\n"
     ]
    }
   ],
   "source": [
    "result1, result2, result3, result4 = countClassifyData(\"pc_category\", df[\"pc\"], [0, 5, 10, 15, 20], [\"pc1\", \"pc2\", \"pc3\", \"pc4\"])\n",
    "print(result1)\n",
    "print(result2)\n",
    "print(result3)\n",
    "print(result4)"
   ]
  },
  {
   "cell_type": "code",
   "execution_count": 49,
   "id": "7b04b7c0",
   "metadata": {},
   "outputs": [
    {
     "name": "stdout",
     "output_type": "stream",
     "text": [
      "px_height_category\n",
      "px_height1    0.309659\n",
      "px_height2    0.272727\n",
      "px_height3    0.247159\n",
      "px_height4    0.170455\n",
      "Name: count, dtype: float64\n",
      "px_height_category\n",
      "px_height2    0.287791\n",
      "px_height3    0.270349\n",
      "px_height4    0.244186\n",
      "px_height1    0.197674\n",
      "Name: count, dtype: float64\n",
      "px_height_category\n",
      "px_height1    0.278592\n",
      "px_height2    0.263930\n",
      "px_height4    0.249267\n",
      "px_height3    0.208211\n",
      "Name: count, dtype: float64\n",
      "px_height_category\n",
      "px_height4    0.341317\n",
      "px_height3    0.269461\n",
      "px_height1    0.215569\n",
      "px_height2    0.173653\n",
      "Name: count, dtype: float64\n"
     ]
    }
   ],
   "source": [
    "result1, result2, result3, result4 = countClassifyData(\"px_height_category\", df[\"px_height\"], [0, 273, 560, 946, 1960], [\"px_height1\", \"px_height2\", \"px_height3\", \"px_height4\"])\n",
    "print(result1)\n",
    "print(result2)\n",
    "print(result3)\n",
    "print(result4)"
   ]
  },
  {
   "cell_type": "code",
   "execution_count": 50,
   "id": "f915c96f",
   "metadata": {},
   "outputs": [
    {
     "name": "stdout",
     "output_type": "stream",
     "text": [
      "px_width_category\n",
      "px_width1    0.312500\n",
      "px_width2    0.272727\n",
      "px_width3    0.255682\n",
      "px_width4    0.159091\n",
      "Name: count, dtype: float64\n",
      "px_width_category\n",
      "px_width2    0.270349\n",
      "px_width1    0.261628\n",
      "px_width4    0.250000\n",
      "px_width3    0.218023\n",
      "Name: count, dtype: float64\n",
      "px_width_category\n",
      "px_width3    0.269795\n",
      "px_width1    0.255132\n",
      "px_width2    0.255132\n",
      "px_width4    0.219941\n",
      "Name: count, dtype: float64\n",
      "px_width_category\n",
      "px_width4    0.374251\n",
      "px_width3    0.251497\n",
      "px_width2    0.206587\n",
      "px_width1    0.167665\n",
      "Name: count, dtype: float64\n"
     ]
    }
   ],
   "source": [
    "result1, result2, result3, result4 = countClassifyData(\"px_width_category\", df[\"px_width\"], [500, 878, 1247, 1623, 1998], [\"px_width1\", \"px_width2\", \"px_width3\", \"px_width4\"])\n",
    "print(result1)\n",
    "print(result2)\n",
    "print(result3)\n",
    "print(result4)"
   ]
  },
  {
   "cell_type": "code",
   "execution_count": 51,
   "id": "f5fefb8a",
   "metadata": {},
   "outputs": [
    {
     "name": "stdout",
     "output_type": "stream",
     "text": [
      "ram_category\n",
      "ram1    0.849432\n",
      "ram2    0.150568\n",
      "ram3    0.000000\n",
      "ram4    0.000000\n",
      "Name: count, dtype: float64\n",
      "ram_category\n",
      "ram2    0.688953\n",
      "ram3    0.183140\n",
      "ram1    0.127907\n",
      "ram4    0.000000\n",
      "Name: count, dtype: float64\n",
      "ram_category\n",
      "ram3    0.665689\n",
      "ram4    0.173021\n",
      "ram2    0.161290\n",
      "ram1    0.000000\n",
      "Name: count, dtype: float64\n",
      "ram_category\n",
      "ram4    0.850299\n",
      "ram3    0.149701\n",
      "ram1    0.000000\n",
      "ram2    0.000000\n",
      "Name: count, dtype: float64\n"
     ]
    }
   ],
   "source": [
    "result1, result2, result3, result4 = countClassifyData(\"ram_category\", df[\"ram\"], [256, 1210.5, 2107, 3036.5, 3998], [\"ram1\", \"ram2\", \"ram3\", \"ram4\"])\n",
    "print(result1)\n",
    "print(result2)\n",
    "print(result3)\n",
    "print(result4)"
   ]
  },
  {
   "cell_type": "code",
   "execution_count": 52,
   "id": "5eaf595b",
   "metadata": {},
   "outputs": [
    {
     "name": "stdout",
     "output_type": "stream",
     "text": [
      "sc_h_category\n",
      "sc_h3    0.301136\n",
      "sc_h1    0.278409\n",
      "sc_h2    0.218750\n",
      "sc_h4    0.201705\n",
      "Name: count, dtype: float64\n",
      "sc_h_category\n",
      "sc_h1    0.302326\n",
      "sc_h3    0.261628\n",
      "sc_h2    0.226744\n",
      "sc_h4    0.209302\n",
      "Name: count, dtype: float64\n",
      "sc_h_category\n",
      "sc_h1    0.348974\n",
      "sc_h2    0.219941\n",
      "sc_h4    0.217009\n",
      "sc_h3    0.214076\n",
      "Name: count, dtype: float64\n",
      "sc_h_category\n",
      "sc_h3    0.344311\n",
      "sc_h1    0.263473\n",
      "sc_h4    0.227545\n",
      "sc_h2    0.164671\n",
      "Name: count, dtype: float64\n"
     ]
    }
   ],
   "source": [
    "result1, result2, result3, result4 = countClassifyData(\"sc_h_category\", df[\"sc_h\"], [5, 9, 12, 16, 19], [\"sc_h1\", \"sc_h2\", \"sc_h3\", \"sc_h4\"])\n",
    "print(result1)\n",
    "print(result2)\n",
    "print(result3)\n",
    "print(result4)"
   ]
  },
  {
   "cell_type": "code",
   "execution_count": 53,
   "id": "24f693ff",
   "metadata": {},
   "outputs": [
    {
     "name": "stdout",
     "output_type": "stream",
     "text": [
      "sc_w_category\n",
      "sc_w3    0.267045\n",
      "sc_w2    0.255682\n",
      "sc_w1    0.252841\n",
      "sc_w4    0.224432\n",
      "Name: count, dtype: float64\n",
      "sc_w_category\n",
      "sc_w2    0.313953\n",
      "sc_w1    0.299419\n",
      "sc_w3    0.209302\n",
      "sc_w4    0.177326\n",
      "Name: count, dtype: float64\n",
      "sc_w_category\n",
      "sc_w2    0.281525\n",
      "sc_w3    0.281525\n",
      "sc_w1    0.266862\n",
      "sc_w4    0.170088\n",
      "Name: count, dtype: float64\n",
      "sc_w_category\n",
      "sc_w1    0.290419\n",
      "sc_w4    0.257485\n",
      "sc_w2    0.254491\n",
      "sc_w3    0.197605\n",
      "Name: count, dtype: float64\n"
     ]
    }
   ],
   "source": [
    "result1, result2, result3, result4 = countClassifyData(\"sc_w_category\", df[\"sc_w\"], [0, 2, 5, 9, 18], [\"sc_w1\", \"sc_w2\", \"sc_w3\", \"sc_w4\"])\n",
    "print(result1)\n",
    "print(result2)\n",
    "print(result3)\n",
    "print(result4)"
   ]
  },
  {
   "cell_type": "code",
   "execution_count": 54,
   "id": "17d21010",
   "metadata": {},
   "outputs": [
    {
     "name": "stdout",
     "output_type": "stream",
     "text": [
      "talk_time_category\n",
      "talk_time2    0.272727\n",
      "talk_time3    0.272727\n",
      "talk_time1    0.269886\n",
      "talk_time4    0.184659\n",
      "Name: count, dtype: float64\n",
      "talk_time_category\n",
      "talk_time3    0.293605\n",
      "talk_time1    0.250000\n",
      "talk_time2    0.235465\n",
      "talk_time4    0.220930\n",
      "Name: count, dtype: float64\n",
      "talk_time_category\n",
      "talk_time3    0.284457\n",
      "talk_time2    0.275660\n",
      "talk_time1    0.258065\n",
      "talk_time4    0.181818\n",
      "Name: count, dtype: float64\n",
      "talk_time_category\n",
      "talk_time2    0.293413\n",
      "talk_time3    0.260479\n",
      "talk_time1    0.236527\n",
      "talk_time4    0.209581\n",
      "Name: count, dtype: float64\n"
     ]
    }
   ],
   "source": [
    "result1, result2, result3, result4 = countClassifyData(\"talk_time_category\", df[\"talk_time\"], [2, 6, 11, 16, 20], [\"talk_time1\", \"talk_time2\", \"talk_time3\", \"talk_time4\"])\n",
    "print(result1)\n",
    "print(result2)\n",
    "print(result3)\n",
    "print(result4)"
   ]
  },
  {
   "cell_type": "code",
   "execution_count": 56,
   "id": "7c6ef87a",
   "metadata": {},
   "outputs": [
    {
     "name": "stdout",
     "output_type": "stream",
     "text": [
      "blue_category\n",
      "1    0.47093\n",
      "0    0.52907\n",
      "Name: count, dtype: float64\n",
      "blue_category\n",
      "0    0.495601\n",
      "1    0.504399\n",
      "Name: count, dtype: float64\n",
      "blue_category\n",
      "0    0.476048\n",
      "1    0.523952\n",
      "Name: count, dtype: float64\n",
      "blue_category\n",
      "1    0.523952\n",
      "0    0.476048\n",
      "Name: count, dtype: float64\n"
     ]
    }
   ],
   "source": [
    "result1, result2, result3, result4 = countClassifyDataBoolean(\"blue_category\", df[\"blue\"])\n",
    "print(result1)\n",
    "print(result2)\n",
    "print(result3)\n",
    "print(result4)"
   ]
  },
  {
   "cell_type": "code",
   "execution_count": 183,
   "id": "6fb91223",
   "metadata": {},
   "outputs": [
    {
     "name": "stdout",
     "output_type": "stream",
     "text": [
      "dual_sim_category\n",
      "1    0.525568\n",
      "0    0.474432\n",
      "Name: count, dtype: float64\n",
      "dual_sim_category\n",
      "1    0.505814\n",
      "0    0.494186\n",
      "Name: count, dtype: float64\n",
      "dual_sim_category\n",
      "0    0.536657\n",
      "1    0.463343\n",
      "Name: count, dtype: float64\n",
      "dual_sim_category\n",
      "1    0.517964\n",
      "0    0.482036\n",
      "Name: count, dtype: float64\n"
     ]
    }
   ],
   "source": [
    "result1, result2, result3, result4 = countClassifyDataBoolean(\"dual_sim_category\", df[\"dual_sim\"])\n",
    "print(result1)\n",
    "print(result2)\n",
    "print(result3)\n",
    "print(result4)"
   ]
  },
  {
   "cell_type": "code",
   "execution_count": 170,
   "id": "2d46725b",
   "metadata": {},
   "outputs": [
    {
     "name": "stdout",
     "output_type": "stream",
     "text": [
      "four_g_category\n",
      "1    0.528409\n",
      "0    0.471591\n",
      "Name: count, dtype: float64\n",
      "four_g_category\n",
      "1    0.534884\n",
      "0    0.465116\n",
      "Name: count, dtype: float64\n",
      "four_g_category\n",
      "0    0.507331\n",
      "1    0.492669\n",
      "Name: count, dtype: float64\n",
      "four_g_category\n",
      "1    0.550898\n",
      "0    0.449102\n",
      "Name: count, dtype: float64\n"
     ]
    }
   ],
   "source": [
    "result1, result2, result3, result4 = countClassifyDataBoolean(\"four_g_category\", df[\"four_g\"])\n",
    "print(result1)\n",
    "print(result2)\n",
    "print(result3)\n",
    "print(result4)"
   ]
  },
  {
   "cell_type": "code",
   "execution_count": 113,
   "id": "afd19dec",
   "metadata": {},
   "outputs": [
    {
     "name": "stdout",
     "output_type": "stream",
     "text": [
      "three_g_category\n",
      "1    0.71875\n",
      "0    0.28125\n",
      "Name: count, dtype: float64\n",
      "three_g_category\n",
      "1    0.784884\n",
      "0    0.215116\n",
      "Name: count, dtype: float64\n",
      "three_g_category\n",
      "1    0.762463\n",
      "0    0.237537\n",
      "Name: count, dtype: float64\n",
      "three_g_category\n",
      "1    0.766467\n",
      "0    0.233533\n",
      "Name: count, dtype: float64\n"
     ]
    }
   ],
   "source": [
    "result1, result2, result3, result4 = countClassifyDataBoolean(\"three_g_category\", df[\"three_g\"])\n",
    "print(result1)\n",
    "print(result2)\n",
    "print(result3)\n",
    "print(result4)"
   ]
  },
  {
   "cell_type": "code",
   "execution_count": 114,
   "id": "2209a84a",
   "metadata": {},
   "outputs": [
    {
     "name": "stdout",
     "output_type": "stream",
     "text": [
      "touch_screen_category\n",
      "1    0.502841\n",
      "0    0.497159\n",
      "Name: count, dtype: float64\n",
      "touch_screen_category\n",
      "1    0.517442\n",
      "0    0.482558\n",
      "Name: count, dtype: float64\n",
      "touch_screen_category\n",
      "0    0.536657\n",
      "1    0.463343\n",
      "Name: count, dtype: float64\n",
      "touch_screen_category\n",
      "0    0.52994\n",
      "1    0.47006\n",
      "Name: count, dtype: float64\n"
     ]
    }
   ],
   "source": [
    "result1, result2, result3, result4 = countClassifyDataBoolean(\"touch_screen_category\", df[\"touch_screen\"])\n",
    "print(result1)\n",
    "print(result2)\n",
    "print(result3)\n",
    "print(result4)"
   ]
  },
  {
   "cell_type": "code",
   "execution_count": 115,
   "id": "6b961109",
   "metadata": {},
   "outputs": [
    {
     "name": "stdout",
     "output_type": "stream",
     "text": [
      "wifi_category\n",
      "0    0.522727\n",
      "1    0.477273\n",
      "Name: count, dtype: float64\n",
      "wifi_category\n",
      "0    0.514535\n",
      "1    0.485465\n",
      "Name: count, dtype: float64\n",
      "wifi_category\n",
      "0    0.530792\n",
      "1    0.469208\n",
      "Name: count, dtype: float64\n",
      "wifi_category\n",
      "1    0.532934\n",
      "0    0.467066\n",
      "Name: count, dtype: float64\n"
     ]
    }
   ],
   "source": [
    "result1, result2, result3, result4 = countClassifyDataBoolean(\"wifi_category\", df[\"wifi\"])\n",
    "print(result1)\n",
    "print(result2)\n",
    "print(result3)\n",
    "print(result4)"
   ]
  },
  {
   "cell_type": "code",
   "execution_count": 120,
   "id": "f5d0da0b",
   "metadata": {},
   "outputs": [
    {
     "name": "stdout",
     "output_type": "stream",
     "text": [
      "price_range_category\n",
      "0    0.256747\n",
      "Name: count, dtype: float64\n",
      "price_range_category\n",
      "1    0.250912\n",
      "Name: count, dtype: float64\n",
      "price_range_category\n",
      "2    0.248724\n",
      "Name: count, dtype: float64\n",
      "price_range_category\n",
      "3    0.243618\n",
      "Name: count, dtype: float64\n"
     ]
    }
   ],
   "source": [
    "#P(Vj)\n",
    "len(df)\n",
    "df['price_range_category'] = df[\"price_range\"] \n",
    "result0 = df[df['price_range'] == 0]['price_range_category'].value_counts()\n",
    "result1 = df[df['price_range'] == 1]['price_range_category'].value_counts()\n",
    "result2 = df[df['price_range'] == 2]['price_range_category'].value_counts()\n",
    "result3 = df[df['price_range'] == 3]['price_range_category'].value_counts()\n",
    "result0 = result0/len(df)\n",
    "result1 = result1/len(df)\n",
    "result2 = result2/len(df)\n",
    "result3 = result3/len(df)\n",
    "print(result0)\n",
    "print(result1)\n",
    "print(result2)\n",
    "print(result3)"
   ]
  }
 ],
 "metadata": {
  "kernelspec": {
   "display_name": "Python 3 (ipykernel)",
   "language": "python",
   "name": "python3"
  },
  "language_info": {
   "codemirror_mode": {
    "name": "ipython",
    "version": 3
   },
   "file_extension": ".py",
   "mimetype": "text/x-python",
   "name": "python",
   "nbconvert_exporter": "python",
   "pygments_lexer": "ipython3",
   "version": "3.10.11"
  }
 },
 "nbformat": 4,
 "nbformat_minor": 5
}
