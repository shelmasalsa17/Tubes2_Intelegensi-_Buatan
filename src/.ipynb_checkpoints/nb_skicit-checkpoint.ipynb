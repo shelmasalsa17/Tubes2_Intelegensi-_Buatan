{
 "cells": [
  {
   "cell_type": "code",
   "execution_count": 2,
   "metadata": {},
   "outputs": [],
   "source": [
    "import pandas as pd\n",
    "import numpy as np\n",
    "from jcopml.pipeline import num_pipe, cat_pipe\n",
    "from jcopml.plot import plot_confusion_matrix\n",
    "from sklearn.model_selection import train_test_split\n",
    "from sklearn.pipeline import Pipeline\n",
    "from sklearn.compose import ColumnTransformer\n",
    "from sklearn.naive_bayes import GaussianNB\n",
    "\n",
    "df = pd.read_csv('../data/data_train.csv')\n",
    "X = df.drop(columns=['price_range'])\n",
    "y = df['price_range']\n",
    "X_train, X_test, y_train, y_test = train_test_split(X, y, test_size=0.2, random_state=42)\n",
    "# X_train.shape, X_test.shape,y_train.shape, y_test.shape"
   ]
  },
  {
   "cell_type": "code",
   "execution_count": 3,
   "metadata": {},
   "outputs": [],
   "source": [
    "preprocessor = ColumnTransformer([\n",
    "    ('numeric', num_pipe(), ['battery_power', 'clock_speed', 'fc', 'int_memory', 'm_dep', 'mobile_wt', 'n_cores', 'pc', 'px_height', 'px_width', 'ram', 'sc_h', 'sc_w', 'talk_time']),\n",
    "    ('categoric', cat_pipe(), ['blue', 'dual_sim', 'four_g', 'three_g', 'touch_screen',                                              'wifi'])\n",
    "])"
   ]
  },
  {
   "cell_type": "code",
   "execution_count": 4,
   "metadata": {},
   "outputs": [],
   "source": [
    "Pipeline = Pipeline([\n",
    "    ('prep', preprocessor),\n",
    "    ('algo', GaussianNB())\n",
    "])"
   ]
  },
  {
   "cell_type": "code",
   "execution_count": 5,
   "metadata": {},
   "outputs": [],
   "source": [
    "Pipeline = Pipeline.fit(X_train, y_train)"
   ]
  },
  {
   "cell_type": "code",
   "execution_count": 33,
   "metadata": {},
   "outputs": [
    {
     "name": "stdout",
     "output_type": "stream",
     "text": [
      "\n",
      "Nilai Price Range Hasil Prediksi:\n",
      "2\n"
     ]
    }
   ],
   "source": [
    "# values = [563,1,0.5,1,2,1,41,0.9,145,5,6,1263,1716,2603,11,2,9,1,1,0]\n",
    "def finalValueKNNSKICITNaive(values, Pipeline=Pipeline):\n",
    "    # Membuat DataFrame dari nilai-nilai tersebut\n",
    "    columns = ['battery_power', 'blue', 'clock_speed', 'dual_sim', 'fc', 'four_g', 'int_memory', 'm_dep', 'mobile_wt',\n",
    "               'n_cores', 'pc', 'px_height', 'px_width', 'ram', 'sc_h', 'sc_w', 'talk_time', 'three_g', 'touch_screen',\n",
    "               'wifi']\n",
    "\n",
    "    X_pred = pd.DataFrame([values], columns=columns)\n",
    "\n",
    "    # # Menampilkan DataFrame sebelum prediksi\n",
    "    # print(\"DataFrame Sebelum Prediksi:\")\n",
    "    # # print(X_pred)\n",
    "\n",
    "    # Melakukan prediksi menggunakan Pipeline\n",
    "    predicted_price_range = Pipeline.predict(X_pred)\n",
    "\n",
    "    # Menggantikan nilai 'price_range' dengan hasil prediksi\n",
    "    X_pred['price_range'] = predicted_price_range\n",
    "    return (X_pred[\"price_range\"][0])\n",
    "# print(finalValueKNNSKICIT(values))\n",
    "def finalResultSkicitNaive(values):\n",
    "    df = pd.read_csv('../data/data_train.csv')\n",
    "    x = finalValueKNNSKICITNaive(values, Pipeline=Pipeline)\n",
    "    return x"
   ]
  },
  {
   "cell_type": "code",
   "execution_count": null,
   "metadata": {},
   "outputs": [],
   "source": []
  }
 ],
 "metadata": {
  "kernelspec": {
   "display_name": "Python 3 (ipykernel)",
   "language": "python",
   "name": "python3"
  },
  "language_info": {
   "codemirror_mode": {
    "name": "ipython",
    "version": 3
   },
   "file_extension": ".py",
   "mimetype": "text/x-python",
   "name": "python",
   "nbconvert_exporter": "python",
   "pygments_lexer": "ipython3",
   "version": "3.10.11"
  }
 },
 "nbformat": 4,
 "nbformat_minor": 2
}
