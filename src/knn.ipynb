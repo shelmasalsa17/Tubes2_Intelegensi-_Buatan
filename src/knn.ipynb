{
 "cells": [
  {
   "cell_type": "code",
   "execution_count": 6,
   "metadata": {},
   "outputs": [
    {
     "name": "stdout",
     "output_type": "stream",
     "text": [
      "0\n"
     ]
    }
   ],
   "source": [
    "import pandas as pd\n",
    "import math\n",
    "import numpy as np\n",
    "\n",
    "# Read the data\n",
    "def readFileWithoutOutliers():\n",
    "    df = pd.read_csv(\"../data/data_train.csv\")\n",
    "    boolean_column = ['blue', 'dual_sim', 'four_g', 'three_g', 'touch_screen', 'wifi']\n",
    "    \n",
    "    for column in boolean_column:\n",
    "        df[column] = df[column].astype(bool)\n",
    "    Q1 = df['fc'].quantile(0.25)\n",
    "    Q3 = df['fc'].quantile(0.75)\n",
    "    IQR = Q3 -Q1\n",
    "    upper_bound = Q3 + 1.5 * IQR\n",
    "    lower_bound = Q1 - 1.5 * IQR\n",
    "    \n",
    "    df_no_outliers = df[(df['fc'] > lower_bound) & (df['fc'] < upper_bound)]\n",
    "    return df_no_outliers\n",
    "\n",
    "def classifyData(data, bins1, labels1):\n",
    "    classified_data = pd.cut(data, bins=bins1, labels=[str(label) for label in labels1])\n",
    "    return classified_data\n",
    "def changeBecameClassifyData(df):\n",
    "    df[\"battery_power\"] = classifyData(df[\"battery_power\"], [500, 864, 1218, 1600, 1998], ['battery_power1', 'battery_power2', 'battery_power3', 'battery_power4'])\n",
    "    df[\"clock_speed\"] = classifyData(df[\"clock_speed\"], [0.4, 0.7, 1.5, 2.2, 3], [\"clock_speed1\", \"clock_speed2\", \"clock_speed3\", \"clock_speed4\"])\n",
    "    df[\"fc\"] = classifyData(df[\"fc\"], [-0.1, 1, 3, 7, 15], [\"fc1\", \"fc2\", \"fc3\", \"fc4\"])\n",
    "    df[\"int_memory\"] = classifyData(df[\"int_memory\"], [1.9, 16, 32, 48, 64], [\"int_memory1\", \"int_memory2\", \"int_memory3\", \"int_memory4\"])\n",
    "    df[\"m_dep\"] = classifyData(df[\"m_dep\"], [0, 0.2, 0.5, 0.8, 1], [\"m_dep1\", \"m_dep2\", \"m_dep3\", \"m_dep4\"])\n",
    "    df[\"mobile_wt\"] = classifyData(df[\"mobile_wt\"], [79, 107.5, 139, 169, 200], [\"mobile_wt1\", \"mobile_wt2\", \"mobile_wt3\", \"mobile_wt4\"])\n",
    "    df[\"n_cores\"] = classifyData(df[\"n_cores\"], [0.9, 2, 4, 7, 8], [\"n_cores1\", \"n_cores2\", \"n_cores3\", \"n_cores4\"])\n",
    "    df[\"pc\"] = classifyData(df[\"pc\"], [-0.1, 5, 10, 15, 20], [\"pc1\", \"pc2\", \"pc3\", \"pc4\"])\n",
    "    df[\"px_height\"] = classifyData(df[\"px_height\"], [-0.1, 273, 560, 946, 1960], [\"px_height1\", \"px_height2\", \"px_height3\", \"px_height4\"])\n",
    "    df[\"px_width\"] = classifyData(df[\"px_width\"], [499.5, 878, 1247, 1623, 1998], [\"px_width1\", \"px_width2\", \"px_width3\", \"px_width4\"])\n",
    "    df[\"sc_h\"] = classifyData(df[\"sc_h\"], [4.9, 9, 12, 16, 19], [\"sc_h1\", \"sc_h2\", \"sc_h3\", \"sc_h4\"])\n",
    "    df[\"sc_w\"] = classifyData(df[\"sc_w\"], [-0.1, 2, 5, 9, 18], [\"sc_w1\", \"sc_w2\", \"sc_w3\", \"sc_w4\"])\n",
    "    df[\"talk_time\"] = classifyData(df[\"talk_time\"], [1.9, 6, 11, 16, 20], [\"talk_time1\", \"talk_time2\", \"talk_time3\", \"talk_time4\"])\n",
    "    return df \n",
    "def classify(namaKolom, value, df):\n",
    "    if df[namaKolom].dtype != bool:\n",
    "        Q1 = df[namaKolom].min()\n",
    "        Q2 = df[namaKolom].quantile(0.25)\n",
    "        Q3 = df[namaKolom].quantile(0.5)\n",
    "        Q4 = df[namaKolom].quantile(0.75)\n",
    "        Q5 = df[namaKolom].max()\n",
    "        if(value >= Q1 and value <= Q2):\n",
    "            return 1\n",
    "        elif(value > Q2 and value <= Q3):\n",
    "            return 2\n",
    "        elif(value > Q3 and value <= Q4):\n",
    "            return 3\n",
    "        elif(value > Q4 and value <= Q5):\n",
    "            return 4\n",
    "    else:\n",
    "        if value == True:\n",
    "            return 1\n",
    "        else:\n",
    "            return 2"
   ]
  }
 ],
 "metadata": {
  "kernelspec": {
   "display_name": "Python 3",
   "language": "python",
   "name": "python3"
  },
  "language_info": {
   "codemirror_mode": {
    "name": "ipython",
    "version": 3
   },
   "file_extension": ".py",
   "mimetype": "text/x-python",
   "name": "python",
   "nbconvert_exporter": "python",
   "pygments_lexer": "ipython3",
   "version": "3.10.10"
  }
 },
 "nbformat": 4,
 "nbformat_minor": 2
}
