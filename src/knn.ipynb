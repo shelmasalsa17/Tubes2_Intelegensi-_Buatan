{
 "cells": [
  {
   "cell_type": "code",
   "execution_count": 3,
   "metadata": {},
   "outputs": [],
   "source": [
    "import pandas as pd\n",
    "import math\n",
    "\n",
    "# Read the data\n",
    "def readFileWithoutOutliers():\n",
    "    df = pd.read_csv(\"../data/data_train.csv\")\n",
    "    boolean_column = ['blue', 'dual_sim', 'four_g', 'three_g', 'touch_screen', 'wifi']\n",
    "    \n",
    "    for column in boolean_column:\n",
    "        df[column] = df[column].astype(bool)\n",
    "    Q1 = df['fc'].quantile(0.25)\n",
    "    Q3 = df['fc'].quantile(0.75)\n",
    "    IQR = Q3 -Q1\n",
    "    upper_bound = Q3 + 1.5 * IQR\n",
    "    lower_bound = Q1 - 1.5 * IQR\n",
    "    \n",
    "    df_no_outliers = df[(df['fc'] > lower_bound) & (df['fc'] < upper_bound)]\n",
    "    return df_no_outliers\n",
    "\n",
    "def classifyData(data, bins1, labels1):\n",
    "    classified_data = pd.cut(data, bins=bins1, labels=[str(label) for label in labels1])\n",
    "    return classified_data\n",
    "\n",
    "# Find distance with euclidean distance \n",
    "def euclidean_distance(data, values):\n",
    "    values = [1866,0,1.4,0,0,0,30,0.5,182,3,0,108,1781,3834,16,11,8,0,0,0]\n",
    "    if len(data) != len(values):\n",
    "        raise ValueError(\"Panjang data harus sama\")\n",
    "    \n",
    "    # Asumsi tidak ada perbedaan antara data dan values\n",
    "    distance = 0\n",
    "    for i in range(len(data)):\n",
    "        distance += (data[i] - values[i]) ** 2\n",
    "        \n",
    "    return math.sqrt(distance)\n",
    "\n",
    "# Write data to txt file\n",
    "def writeDatatoTxt(file_path, column_data, data_frame):\n",
    "    df = pd.read_csv(\"../data/data_train.csv\")\n",
    "    with open(file_path, 'w') as file:\n",
    "        for classify_column_name, bins, labels in column_data:\n",
    "            data = data_frame[classify_column_name]\n",
    "            df[classify_column_name] = classifyData(data, bins, labels)\n",
    "            "
   ]
  }
 ],
 "metadata": {
  "kernelspec": {
   "display_name": "Python 3",
   "language": "python",
   "name": "python3"
  },
  "language_info": {
   "codemirror_mode": {
    "name": "ipython",
    "version": 3
   },
   "file_extension": ".py",
   "mimetype": "text/x-python",
   "name": "python",
   "nbconvert_exporter": "python",
   "pygments_lexer": "ipython3",
   "version": "3.10.10"
  }
 },
 "nbformat": 4,
 "nbformat_minor": 2
}
