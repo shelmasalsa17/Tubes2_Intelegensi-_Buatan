{
 "cells": [
  {
   "cell_type": "code",
   "execution_count": 53,
   "id": "8dca05bd",
   "metadata": {},
   "outputs": [
    {
     "name": "stdout",
     "output_type": "stream",
     "text": [
      "Hallo WECOME TO MAIN\n",
      "Berikan Inputan: \n",
      "This main will give you all of prediction: \n",
      "________________________________NAIVE BAYES SKICIT LEARN___________________________________\n",
      "Biaya Sangat Tinggi\n",
      "________________________________NAIVE BAYES MANUALITY___________________________________\n",
      "Biaya Sangat Tinggi\n",
      "________________________________KNN SKICIT LEARN___________________________________\n",
      "Biaya Sangat Tinggi\n",
      "________________________________KNN MANUALITY___________________________________\n",
      "Biaya Sangat Tinggi\n"
     ]
    }
   ],
   "source": [
    "%run naive_bayes.ipynb\n",
    "%run knn.ipynb \n",
    "%run testskict.ipynb \n",
    "%run knn-scikit.ipynb\n",
    "\n",
    "\n",
    "def resultInStr(result):\n",
    "    if(result == 0):\n",
    "        return \"Biaya Rendah\"\n",
    "    elif(result == 1):\n",
    "        return \"Biaya Sedang\"\n",
    "    elif(result == 2):\n",
    "        return \"Biaya Tinggi\"\n",
    "    elif(result == 3):\n",
    "        return \"Biaya Sangat Tinggi\"\n",
    "\n",
    "# Ganti nama variabel 'input' menjadi sesuatu yang berbeda, misalnya 'input_value'\n",
    "print(\"Hallo WECOME TO MAIN\")\n",
    "print(\"Berikan Inputan: \")\n",
    "# arrays = ['battery_power', 'blue', 'clock_speed', 'dual_sim', 'fc', 'four_g', 'int_memory', 'm_dep', 'mobile_wt',\n",
    "#            'n_cores', 'pc', 'px_height', 'px_width', 'ram', 'sc_h', 'sc_w', 'talk_time', 'three_g', 'touch_screen',\n",
    "#            'wifi']\n",
    "# values = [0 for i in range(len(arrays))]\n",
    "# for i in range(len(arrays)):\n",
    "#     values[i] = float(input(f\"Masukkan nilai {arrays[i]} : \"))\n",
    "values = [769,1,2.9,1,0,0,9,0.1,182,5,1,248,874,3946,5,2,7,0,0,0]\n",
    "print(\"This main will give you all of prediction: \")\n",
    "print(\"________________________________NAIVE BAYES SKICIT LEARN___________________________________\")\n",
    "print(resultInStr(finalResultSkicitNaive(values)))\n",
    "print(\"________________________________NAIVE BAYES MANUALITY___________________________________\")\n",
    "print(resultInStr(finalResult(values)))\n",
    "print(\"________________________________KNN SKICIT LEARN___________________________________\")\n",
    "print(resultInStr(finalResultSkicit(values)))\n",
    "print(\"________________________________KNN MANUALITY___________________________________\")\n",
    "print(resultInStr(finalResultKNN(values)))\n",
    "#[842,0,2.2,0,1,0,7,0.6,188,2,2,20,756,2549,9,7,19,0,0,1]"
   ]
  },
  {
   "cell_type": "code",
   "execution_count": null,
   "id": "61a5e0fa",
   "metadata": {},
   "outputs": [],
   "source": []
  },
  {
   "cell_type": "code",
   "execution_count": null,
   "id": "3178c479",
   "metadata": {},
   "outputs": [],
   "source": []
  },
  {
   "cell_type": "code",
   "execution_count": null,
   "id": "59a741f7",
   "metadata": {},
   "outputs": [],
   "source": []
  }
 ],
 "metadata": {
  "kernelspec": {
   "display_name": "Python 3 (ipykernel)",
   "language": "python",
   "name": "python3"
  },
  "language_info": {
   "codemirror_mode": {
    "name": "ipython",
    "version": 3
   },
   "file_extension": ".py",
   "mimetype": "text/x-python",
   "name": "python",
   "nbconvert_exporter": "python",
   "pygments_lexer": "ipython3",
   "version": "3.10.11"
  }
 },
 "nbformat": 4,
 "nbformat_minor": 5
}
